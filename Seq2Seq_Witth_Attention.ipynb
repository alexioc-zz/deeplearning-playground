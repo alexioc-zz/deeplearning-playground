{
  "nbformat": 4,
  "nbformat_minor": 0,
  "metadata": {
    "kernelspec": {
      "display_name": "Python 3",
      "language": "python",
      "name": "python3"
    },
    "language_info": {
      "codemirror_mode": {
        "name": "ipython",
        "version": 3
      },
      "file_extension": ".py",
      "mimetype": "text/x-python",
      "name": "python",
      "nbconvert_exporter": "python",
      "pygments_lexer": "ipython3",
      "version": "3.7.7"
    },
    "colab": {
      "name": "Seq2Seq Witth Attention",
      "provenance": [],
      "include_colab_link": true
    },
    "accelerator": "GPU"
  },
  "cells": [
    {
      "cell_type": "markdown",
      "metadata": {
        "id": "view-in-github",
        "colab_type": "text"
      },
      "source": [
        "<a href=\"https://colab.research.google.com/github/alexioc/deeplearning-playground/blob/master/Seq2Seq_Witth_Attention.ipynb\" target=\"_parent\"><img src=\"https://colab.research.google.com/assets/colab-badge.svg\" alt=\"Open In Colab\"/></a>"
      ]
    },
    {
      "cell_type": "markdown",
      "metadata": {
        "id": "1rWPH5jxEclM",
        "colab_type": "text"
      },
      "source": [
        "# Se12Seq Model with Attention mechanism\n",
        "\n",
        "The following code is from Chapter 8 of the book \"Deep Learning with TensorFlow 2 and Keras\" by Antonio Gulli, Amita Kapoor, Sujit Pal.\n",
        "\n",
        "The original code can be found here: https://github.com/PacktPublishing/Deep-Learning-with-TensorFlow-2-and-Keras/tree/master/Chapter%208\n",
        "\n",
        "This version contains a couple of small bug fixes and it's put in a Jupyter file.\n",
        "\n",
        "**Instructions**:\n",
        "\n",
        "\n",
        "1.   Download and unzip http://www.manythings.org/anki/fra-eng.zip in your local computer\n",
        "2.   Upload it here in Google Colab in a new folder with name \"datasets\"\n",
        "3. Select a GPU from Runtime menu\n",
        "4. Run all the code\n"
      ]
    },
    {
      "cell_type": "code",
      "metadata": {
        "id": "f6d_qXAhEclN",
        "colab_type": "code",
        "colab": {}
      },
      "source": [
        "import nltk\n",
        "import numpy as np\n",
        "import re\n",
        "import shutil\n",
        "import tensorflow as tf\n",
        "import os\n",
        "import unicodedata\n",
        "import zipfile\n",
        "\n",
        "from nltk.translate.bleu_score import sentence_bleu, SmoothingFunction"
      ],
      "execution_count": 52,
      "outputs": []
    },
    {
      "cell_type": "code",
      "metadata": {
        "id": "DEq00tt9EclQ",
        "colab_type": "code",
        "colab": {}
      },
      "source": [
        "def clean_up_logs(data_dir):\n",
        "    checkpoint_dir = os.path.join(data_dir, \"checkpoints\")\n",
        "    if os.path.exists(checkpoint_dir):\n",
        "        shutil.rmtree(checkpoint_dir, ignore_errors=True)\n",
        "        os.makedirs(checkpoint_dir)\n",
        "    return checkpoint_dir\n",
        "\n",
        "\n",
        "def preprocess_sentence(sent):\n",
        "    sent = \"\".join([c for c in unicodedata.normalize(\"NFD\", sent) \n",
        "        if unicodedata.category(c) != \"Mn\"])\n",
        "    sent = re.sub(r\"([!.?])\", r\" \\1\", sent)\n",
        "    sent = re.sub(r\"[^a-zA-Z!.?]+\", r\" \", sent)\n",
        "    sent = re.sub(r\"\\s+\", \" \", sent)\n",
        "    sent = sent.lower()\n",
        "    return sent\n",
        "\n",
        "\n",
        "def download_and_read(url, num_sent_pairs=30000):\n",
        "    local_file = url.split('/')[-1]\n",
        "    if not os.path.exists(local_file):\n",
        "        os.system(\"wget -O {:s} {:s}\".format(local_file, url))\n",
        "        with zipfile.ZipFile(local_file, \"r\") as zip_ref:\n",
        "            zip_ref.extractall(\".\")\n",
        "    local_file = os.path.join(\"datasets\", \"fra.txt\")\n",
        "    en_sents, fr_sents_in, fr_sents_out = [], [], []\n",
        "    with open(local_file, \"r\") as fin:\n",
        "        for i, line in enumerate(fin):\n",
        "            en_sent, fr_sent, _ = line.strip().split('\\t')\n",
        "            en_sent = [w for w in preprocess_sentence(en_sent).split()]\n",
        "            fr_sent = preprocess_sentence(fr_sent)\n",
        "            fr_sent_in = [w for w in (\"BOS \" + fr_sent).split()]\n",
        "            fr_sent_out = [w for w in (fr_sent + \" EOS\").split()]\n",
        "            en_sents.append(en_sent)\n",
        "            fr_sents_in.append(fr_sent_in)\n",
        "            fr_sents_out.append(fr_sent_out)\n",
        "            if i >= num_sent_pairs - 1:\n",
        "                break\n",
        "    return en_sents, fr_sents_in, fr_sents_out"
      ],
      "execution_count": 53,
      "outputs": []
    },
    {
      "cell_type": "code",
      "metadata": {
        "id": "9iHpM4kO82Cy",
        "colab_type": "code",
        "colab": {}
      },
      "source": [
        "class BahdanauAttention(tf.keras.layers.Layer):\n",
        "    def __init__(self, num_units):\n",
        "        super(BahdanauAttention, self).__init__()\n",
        "        self.W1 = tf.keras.layers.Dense(num_units)\n",
        "        self.W2 = tf.keras.layers.Dense(num_units)\n",
        "        self.V = tf.keras.layers.Dense(1)\n",
        "\n",
        "    def call(self, query, values):\n",
        "        # query is the decoder state at time step j\n",
        "        # query.shape: (batch_size, num_units)\n",
        "        # values are encoder states at every timestep i\n",
        "        # values.shape: (batch_size, num_timesteps, num_units)\n",
        "\n",
        "        # add time axis to query: (batch_size, 1, num_units)\n",
        "        query_with_time_axis = tf.expand_dims(query, axis=1)\n",
        "        # compute score:\n",
        "        score = self.V(tf.keras.activations.tanh(\n",
        "            self.W1(values) + self.W2(query_with_time_axis)))\n",
        "        # compute softmax\n",
        "        alignment = tf.nn.softmax(score, axis=1)\n",
        "        # compute attended output\n",
        "        context = tf.reduce_sum(\n",
        "            tf.linalg.matmul(\n",
        "                tf.linalg.matrix_transpose(alignment),\n",
        "                values\n",
        "            ), axis=1\n",
        "        )\n",
        "        context = tf.expand_dims(context, axis=1)\n",
        "        return context, alignment\n",
        "\n"
      ],
      "execution_count": 54,
      "outputs": []
    },
    {
      "cell_type": "code",
      "metadata": {
        "id": "C3DdT8PN84Up",
        "colab_type": "code",
        "colab": {}
      },
      "source": [
        "class LuongAttention(tf.keras.layers.Layer):\n",
        "    def __init__(self, num_units):\n",
        "        super(LuongAttention, self).__init__()\n",
        "        self.W = tf.keras.layers.Dense(num_units)\n",
        "\n",
        "    def call(self, query, values):\n",
        "        # add time axis to query\n",
        "        query_with_time_axis = tf.expand_dims(query, axis=1)\n",
        "        # compute score\n",
        "        score = tf.linalg.matmul(\n",
        "            query_with_time_axis, self.W(values), transpose_b=True)\n",
        "        # compute softmax\n",
        "        alignment = tf.nn.softmax(score, axis=2)\n",
        "        # compute attended output\n",
        "        context = tf.matmul(alignment, values)\n",
        "        return context, alignment\n"
      ],
      "execution_count": 55,
      "outputs": []
    },
    {
      "cell_type": "code",
      "metadata": {
        "id": "7RVDXEU187YV",
        "colab_type": "code",
        "colab": {}
      },
      "source": [
        ""
      ],
      "execution_count": 55,
      "outputs": []
    },
    {
      "cell_type": "code",
      "metadata": {
        "id": "ZrFy4ujXEclT",
        "colab_type": "code",
        "colab": {}
      },
      "source": [
        "class Encoder(tf.keras.Model):\n",
        "    def __init__(self, vocab_size, num_timesteps, \n",
        "            embedding_dim, encoder_dim, **kwargs):\n",
        "        super(Encoder, self).__init__(**kwargs)\n",
        "        self.encoder_dim = encoder_dim\n",
        "        self.embedding = tf.keras.layers.Embedding(\n",
        "            vocab_size, embedding_dim, input_length=num_timesteps)\n",
        "        self.rnn = tf.keras.layers.GRU(\n",
        "            encoder_dim, return_sequences=True, return_state=True)\n",
        "\n",
        "    def call(self, x, state):\n",
        "        x = self.embedding(x)\n",
        "        x, state = self.rnn(x, initial_state=state)\n",
        "        return x, state\n",
        "\n",
        "    def init_state(self, batch_size):\n",
        "        return tf.zeros((batch_size, self.encoder_dim))\n"
      ],
      "execution_count": 56,
      "outputs": []
    },
    {
      "cell_type": "code",
      "metadata": {
        "id": "OBwvKUNYEclV",
        "colab_type": "code",
        "colab": {}
      },
      "source": [
        "class Decoder(tf.keras.Model):\n",
        "    def __init__(self, vocab_size, embedding_dim, num_timesteps,\n",
        "            decoder_dim, **kwargs):\n",
        "        super(Decoder, self).__init__(**kwargs)\n",
        "        self.decoder_dim = decoder_dim\n",
        "\n",
        "        # self.attention = LuongAttention(embedding_dim)\n",
        "        self.attention = BahdanauAttention(embedding_dim)\n",
        "\n",
        "        self.embedding = tf.keras.layers.Embedding(\n",
        "            vocab_size, embedding_dim, input_length=num_timesteps)\n",
        "        self.rnn = tf.keras.layers.GRU(\n",
        "            decoder_dim, return_sequences=True, return_state=True)\n",
        "\n",
        "        self.Wc = tf.keras.layers.Dense(decoder_dim, activation=\"tanh\")\n",
        "        self.Ws = tf.keras.layers.Dense(vocab_size)\n",
        "\n",
        "    def call(self, x, state, encoder_out):\n",
        "        x = self.embedding(x)\n",
        "        context, alignment = self.attention(x, encoder_out)\n",
        "        x = tf.expand_dims(\n",
        "                tf.concat([\n",
        "                    x, tf.squeeze(context, axis=1)\n",
        "                ], axis=1), \n",
        "            axis=1)\n",
        "        x, state = self.rnn(x, state)\n",
        "        x = self.Wc(x)\n",
        "        x = self.Ws(x)\n",
        "        return x, state, alignment\n"
      ],
      "execution_count": 57,
      "outputs": []
    },
    {
      "cell_type": "code",
      "metadata": {
        "id": "9IFYIZr-EclX",
        "colab_type": "code",
        "colab": {}
      },
      "source": [
        "def loss_fn(ytrue, ypred):\n",
        "    scce = tf.keras.losses.SparseCategoricalCrossentropy(from_logits=True)\n",
        "    mask = tf.math.logical_not(tf.math.equal(ytrue, 0))\n",
        "    mask = tf.cast(mask, dtype=tf.int64)\n",
        "    loss = scce(ytrue, ypred, sample_weight=mask)\n",
        "    return loss"
      ],
      "execution_count": 58,
      "outputs": []
    },
    {
      "cell_type": "code",
      "metadata": {
        "id": "4e49UyvLEclb",
        "colab_type": "code",
        "colab": {}
      },
      "source": [
        "@tf.function\n",
        "def train_step(encoder_in, decoder_in, decoder_out, encoder_state):\n",
        "    with tf.GradientTape() as tape:\n",
        "        encoder_out, encoder_state = encoder(encoder_in, encoder_state)\n",
        "        decoder_state = encoder_state\n",
        "\n",
        "        loss = 0\n",
        "        for t in range(decoder_out.shape[1]):\n",
        "            decoder_in_t = decoder_in[:, t]\n",
        "            decoder_pred_t, decoder_state, _ = decoder(decoder_in_t,\n",
        "                decoder_state, encoder_out)\n",
        "            loss += loss_fn(decoder_out[:, t], decoder_pred_t)\n",
        "\n",
        "    variables = encoder.trainable_variables + decoder.trainable_variables\n",
        "    gradients = tape.gradient(loss, variables)\n",
        "    optimizer.apply_gradients(zip(gradients, variables))\n",
        "    return loss / decoder_out.shape[1]\n"
      ],
      "execution_count": 59,
      "outputs": []
    },
    {
      "cell_type": "code",
      "metadata": {
        "id": "ffxeaEWv9Nkl",
        "colab_type": "code",
        "colab": {}
      },
      "source": [
        "def predict(encoder, decoder, batch_size, \n",
        "        sents_en, data_en, sents_fr_out, \n",
        "        word2idx_fr, idx2word_fr):\n",
        "    random_id = np.random.choice(len(sents_en))\n",
        "    print(\"input    : \",  \" \".join(sents_en[random_id]))\n",
        "    print(\"label    : \", \" \".join(sents_fr_out[random_id]))\n",
        "\n",
        "    encoder_in = tf.expand_dims(data_en[random_id], axis=0)\n",
        "    decoder_out = tf.expand_dims(sents_fr_out[random_id], axis=0)\n",
        "\n",
        "    encoder_state = encoder.init_state(1)\n",
        "    encoder_out, encoder_state = encoder(encoder_in, encoder_state)\n",
        "    decoder_state = encoder_state\n",
        "\n",
        "    pred_sent_fr = []\n",
        "    decoder_in = tf.expand_dims(\n",
        "        tf.constant(word2idx_fr[\"BOS\"]), axis=0)\n",
        "\n",
        "    while True:\n",
        "        decoder_pred, decoder_state, _ = decoder(\n",
        "            decoder_in, decoder_state, encoder_out)\n",
        "        decoder_pred = tf.argmax(decoder_pred, axis=-1)\n",
        "        pred_word = idx2word_fr[decoder_pred.numpy()[0][0]]\n",
        "        pred_sent_fr.append(pred_word)\n",
        "        if pred_word == \"EOS\":\n",
        "            break\n",
        "        decoder_in = tf.squeeze(decoder_pred, axis=1)\n",
        "\n",
        "    print(\"predicted: \", \" \".join(pred_sent_fr))\n"
      ],
      "execution_count": 60,
      "outputs": []
    },
    {
      "cell_type": "code",
      "metadata": {
        "id": "GDC2D5vLEcld",
        "colab_type": "code",
        "colab": {}
      },
      "source": [
        "def evaluate_bleu_score(encoder, decoder, test_dataset, \n",
        "        word2idx_fr, idx2word_fr):\n",
        "\n",
        "    bleu_scores = []\n",
        "    smooth_fn = SmoothingFunction()\n",
        "\n",
        "    for encoder_in, decoder_in, decoder_out in test_dataset:\n",
        "        encoder_state = encoder.init_state(batch_size)\n",
        "        encoder_out, encoder_state = encoder(encoder_in, encoder_state)\n",
        "        decoder_state = encoder_state\n",
        "\n",
        "        ref_sent_ids = np.zeros_like(decoder_out)\n",
        "        hyp_sent_ids = np.zeros_like(decoder_out)\n",
        "        for t in range(decoder_out.shape[1]):\n",
        "            decoder_out_t = decoder_out[:, t]\n",
        "            decoder_in_t = decoder_in[:, t]\n",
        "            decoder_pred_t, decoder_state, _ = decoder(\n",
        "                decoder_in_t, decoder_state, encoder_out)\n",
        "            decoder_pred_t = tf.argmax(decoder_pred_t, axis=-1)\n",
        "            for b in range(decoder_pred_t.shape[0]):\n",
        "                ref_sent_ids[b, t] = decoder_out_t.numpy()[0]\n",
        "                hyp_sent_ids[b, t] = decoder_pred_t.numpy()[0][0]\n",
        "        \n",
        "        for b in range(ref_sent_ids.shape[0]):\n",
        "            ref_sent = [idx2word_fr[i] for i in ref_sent_ids[b] if i > 0]\n",
        "            hyp_sent = [idx2word_fr[i] for i in hyp_sent_ids[b] if i > 0]\n",
        "            # remove trailing EOS\n",
        "            ref_sent = ref_sent[0:-1]\n",
        "            hyp_sent = hyp_sent[0:-1]\n",
        "            bleu_score = sentence_bleu([ref_sent], hyp_sent,\n",
        "                smoothing_function=smooth_fn.method1)\n",
        "            bleu_scores.append(bleu_score)\n",
        "\n",
        "    return np.mean(np.array(bleu_scores))\n"
      ],
      "execution_count": 61,
      "outputs": []
    },
    {
      "cell_type": "code",
      "metadata": {
        "id": "OAyJyyxbEclf",
        "colab_type": "code",
        "colab": {}
      },
      "source": [
        "# NUM_SENT_PAIRS = 100\n",
        "# EMBEDDING_DIM = 32\n",
        "# ENCODER_DIM, DECODER_DIM = 64, 64\n",
        "# BATCH_SIZE = 8\n",
        "# NUM_EPOCHS = 3\n",
        "\n",
        "NUM_SENT_PAIRS = 30000\n",
        "EMBEDDING_DIM = 256\n",
        "ENCODER_DIM, DECODER_DIM = 1024, 1024\n",
        "BATCH_SIZE = 64\n",
        "NUM_EPOCHS = 30\n",
        "\n",
        "tf.random.set_seed(42)\n",
        "\n",
        "data_dir = \"./data\"\n",
        "checkpoint_dir = clean_up_logs(data_dir)\n",
        "\n",
        "# Test code for attention classes\n",
        "# batch_size = BATCH_SIZE\n",
        "# num_timesteps = MAXLEN_EN\n",
        "# num_units = ENCODER_DIM\n",
        "\n",
        "# query = np.random.random(size=(batch_size, num_units))\n",
        "# values = np.random.random(size=(batch_size, num_timesteps, num_units))\n",
        "\n",
        "# # check out dimensions for Bahdanau attention\n",
        "# b_attn = BahdanauAttention(num_units)\n",
        "# context, alignments = b_attn(query, values)\n",
        "# print(\"Bahdanau: context.shape:\", context.shape, \"alignments.shape:\", alignments.shape)\n",
        "# # Bahdanau: context.shape: (64, 1024) alignments.shape: (64, 8, 1)\n",
        "\n",
        "# # check out dimensions for Luong attention\n",
        "# l_attn = LuongAttention(num_units)\n",
        "# context, alignments = l_attn(query, values)\n",
        "# print(\"Luong: context.shape:\", context.shape, \"alignments.shape:\", alignments.shape)\n",
        "# # Luong: context.shape: (64, 1024) alignments.shape: (64, 8, 1)\n",
        "# End test code for attention classes"
      ],
      "execution_count": 62,
      "outputs": []
    },
    {
      "cell_type": "code",
      "metadata": {
        "id": "XykexOvsEclh",
        "colab_type": "code",
        "colab": {
          "base_uri": "https://localhost:8080/",
          "height": 51
        },
        "outputId": "6889f024-a8e2-4768-ead3-c84cce7ec293"
      },
      "source": [
        "# data preparation\n",
        "download_url = \"http://www.manythings.org/anki/fra-eng.zip\"\n",
        "sents_en, sents_fr_in, sents_fr_out = download_and_read(\n",
        "    download_url, num_sent_pairs=NUM_SENT_PAIRS)\n",
        "\n",
        "tokenizer_en = tf.keras.preprocessing.text.Tokenizer(\n",
        "    filters=\"\", lower=False)\n",
        "tokenizer_en.fit_on_texts(sents_en)\n",
        "data_en = tokenizer_en.texts_to_sequences(sents_en)\n",
        "data_en = tf.keras.preprocessing.sequence.pad_sequences(data_en, padding=\"post\")\n",
        "\n",
        "tokenizer_fr = tf.keras.preprocessing.text.Tokenizer(\n",
        "    filters=\"\", lower=False)\n",
        "tokenizer_fr.fit_on_texts(sents_fr_in)\n",
        "tokenizer_fr.fit_on_texts(sents_fr_out)\n",
        "data_fr_in = tokenizer_fr.texts_to_sequences(sents_fr_in)\n",
        "data_fr_in = tf.keras.preprocessing.sequence.pad_sequences(data_fr_in, padding=\"post\")\n",
        "data_fr_out = tokenizer_fr.texts_to_sequences(sents_fr_out)\n",
        "data_fr_out = tf.keras.preprocessing.sequence.pad_sequences(data_fr_out, padding=\"post\")\n",
        "\n",
        "maxlen_en = data_en.shape[1]\n",
        "maxlen_fr = data_fr_out.shape[1]\n",
        "print(\"seqlen (en): {:d}, (fr): {:d}\".format(maxlen_en, maxlen_fr))\n",
        "\n",
        "batch_size = BATCH_SIZE\n",
        "dataset = tf.data.Dataset.from_tensor_slices((data_en, data_fr_in, data_fr_out))\n",
        "dataset = dataset.shuffle(10000)\n",
        "test_size = NUM_SENT_PAIRS // 4\n",
        "test_dataset = dataset.take(test_size).batch(batch_size, drop_remainder=True)\n",
        "train_dataset = dataset.skip(test_size).batch(batch_size, drop_remainder=True)\n",
        "\n",
        "vocab_size_en = len(tokenizer_en.word_index)\n",
        "vocab_size_fr = len(tokenizer_fr.word_index)\n",
        "word2idx_en = tokenizer_en.word_index\n",
        "idx2word_en = {v:k for k, v in word2idx_en.items()}\n",
        "word2idx_fr = tokenizer_fr.word_index\n",
        "idx2word_fr = {v:k for k, v in word2idx_fr.items()}\n",
        "print(\"vocab size (en): {:d}, vocab size (fr): {:d}\".format(\n",
        "    vocab_size_en, vocab_size_fr))\n",
        "# vocab size (en): 57, vocab size (fr): 123"
      ],
      "execution_count": 63,
      "outputs": [
        {
          "output_type": "stream",
          "text": [
            "seqlen (en): 8, (fr): 16\n",
            "vocab size (en): 4348, vocab size (fr): 7573\n"
          ],
          "name": "stdout"
        }
      ]
    },
    {
      "cell_type": "code",
      "metadata": {
        "id": "1wxqZZ91Eclj",
        "colab_type": "code",
        "colab": {}
      },
      "source": [
        "# check encoder/decoder dimensions\n",
        "embedding_dim = EMBEDDING_DIM\n",
        "encoder_dim, decoder_dim = ENCODER_DIM, DECODER_DIM\n",
        "\n",
        "encoder = Encoder(vocab_size_en+1, embedding_dim, maxlen_en, encoder_dim)\n",
        "decoder = Decoder(vocab_size_fr+1, embedding_dim, maxlen_fr, decoder_dim)\n",
        "\n",
        "# # Test code for encoder and decoder with attention\n",
        "# for encoder_in, decoder_in, decoder_out in train_dataset:\n",
        "#     print(\"inputs:\", encoder_in.shape, decoder_in.shape, decoder_out.shape)\n",
        "#     encoder_state = encoder.init_state(batch_size)\n",
        "#     encoder_out, encoder_state = encoder(encoder_in, encoder_state)\n",
        "#     decoder_state = encoder_state\n",
        "#     decoder_pred = []\n",
        "#     for t in range(decoder_out.shape[1]):\n",
        "#         decoder_in_t = decoder_in[:, t]\n",
        "#         decoder_pred_t, decoder_state, _ = decoder(decoder_in_t,\n",
        "#             decoder_state, encoder_out)\n",
        "#         decoder_pred.append(decoder_pred_t.numpy())\n",
        "#     decoder_pred = tf.squeeze(np.array(decoder_pred), axis=2)\n",
        "#     break\n",
        "# print(\"encoder input          :\", encoder_in.shape)\n",
        "# print(\"encoder output         :\", encoder_out.shape, \"state:\", encoder_state.shape)\n",
        "# print(\"decoder output (logits):\", decoder_pred.shape, \"state:\", decoder_state.shape)\n",
        "# print(\"decoder output (labels):\", decoder_out.shape)\n",
        "\n",
        "# Bahdanau:\n",
        "# encoder input          : (64, 8)\n",
        "# encoder output         : (64, 8, 1024) state: (64, 1024)\n",
        "# decoder output (logits): (8, 64, 7658) state: (64, 1024)\n",
        "# decoder output (labels): (64, 16)\n",
        "# \n",
        "# Luong:\n",
        "# encoder input          : (64, 8)\n",
        "# encoder output         : (64, 8, 1024) state: (64, 1024)\n",
        "# decoder output (logits): (8, 64, 7658) state: (64, 1024)\n",
        "# decoder output (labels): (64, 16)\n",
        "\n",
        "\n",
        "optimizer = tf.keras.optimizers.Adam()\n",
        "checkpoint_prefix = os.path.join(checkpoint_dir, \"ckpt\")\n",
        "checkpoint = tf.train.Checkpoint(optimizer=optimizer,\n",
        "                                 encoder=encoder,\n",
        "                                 decoder=decoder)"
      ],
      "execution_count": 64,
      "outputs": []
    },
    {
      "cell_type": "code",
      "metadata": {
        "id": "pzxLpORgEcll",
        "colab_type": "code",
        "colab": {
          "base_uri": "https://localhost:8080/",
          "height": 425
        },
        "outputId": "de54632d-8516-47d0-dd25-a256fb383da3"
      },
      "source": [
        "num_epochs = NUM_EPOCHS\n",
        "eval_scores = []\n",
        "\n",
        "for e in range(num_epochs):\n",
        "    encoder_state = encoder.init_state(batch_size)\n",
        "\n",
        "    for batch, data in enumerate(train_dataset):\n",
        "        encoder_in, decoder_in, decoder_out = data\n",
        "        # print(encoder_in.shape, decoder_in.shape, decoder_out.shape)\n",
        "        loss = train_step(\n",
        "            encoder_in, decoder_in, decoder_out, encoder_state)\n",
        "    \n",
        "    print(\"Epoch: {}, Loss: {:.4f}\".format(e + 1, loss.numpy()))\n",
        "\n",
        "    if e % 10 == 0:\n",
        "        checkpoint.save(file_prefix=checkpoint_prefix)\n",
        "    \n",
        "    predict(encoder, decoder, batch_size, sents_en, data_en,\n",
        "        sents_fr_out, word2idx_fr, idx2word_fr)\n",
        "\n",
        "    eval_score = evaluate_bleu_score(encoder, decoder, test_dataset, word2idx_fr, idx2word_fr)\n",
        "    print(\"Eval Score (BLEU): {:.3e}\".format(eval_score))\n",
        "    # eval_scores.append(eval_score)\n",
        "\n",
        "checkpoint.save(file_prefix=checkpoint_prefix)"
      ],
      "execution_count": null,
      "outputs": [
        {
          "output_type": "stream",
          "text": [
            "Epoch: 1, Loss: 1.3016\n",
            "input    :  you re very busy .\n",
            "label    :  tu es tres occupee . EOS\n",
            "predicted:  vous etes tres ingenieuse . EOS\n",
            "Eval Score (BLEU): 2.647e-02\n",
            "Epoch: 2, Loss: 1.0778\n",
            "input    :  tom is awful .\n",
            "label    :  tom est horrible . EOS\n",
            "predicted:  tom est en train de travailler . EOS\n",
            "Eval Score (BLEU): 3.084e-02\n",
            "Epoch: 3, Loss: 0.7937\n",
            "input    :  i said maybe .\n",
            "label    :  j ai dit peut etre . EOS\n",
            "predicted:  j ai je cesse de perdre . EOS\n",
            "Eval Score (BLEU): 3.918e-02\n",
            "Epoch: 4, Loss: 0.7176\n",
            "input    :  i m not dumb .\n",
            "label    :  je ne suis pas abrutie . EOS\n",
            "predicted:  je ne suis pas encore fatigue . EOS\n",
            "Eval Score (BLEU): 5.443e-02\n",
            "Epoch: 5, Loss: 0.5775\n",
            "input    :  he cleaned it up .\n",
            "label    :  il l a nettoyee . EOS\n",
            "predicted:  il a pris la merde . EOS\n"
          ],
          "name": "stdout"
        }
      ]
    }
  ]
}